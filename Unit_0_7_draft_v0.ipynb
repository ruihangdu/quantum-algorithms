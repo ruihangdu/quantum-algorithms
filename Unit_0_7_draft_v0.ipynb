{
 "cells": [
  {
   "cell_type": "code",
   "execution_count": 1,
   "id": "1a10f355-adfd-4aa0-91ca-66cf9ad6d7e5",
   "metadata": {},
   "outputs": [],
   "source": [
    "import numpy as np\n",
    "\n",
    "# Importing standard Qiskit libraries\n",
    "from qiskit import QuantumCircuit, transpile, Aer, IBMQ\n",
    "from qiskit.tools.jupyter import *\n",
    "from qiskit.visualization import *\n",
    "from ibm_quantum_widgets import *\n",
    "from qiskit.providers.aer import QasmSimulator\n",
    "\n",
    "# Loading your IBM Quantum account(s)\n",
    "provider = IBMQ.load_account()"
   ]
  },
  {
   "cell_type": "code",
   "execution_count": 2,
   "id": "37239ea1-8009-4ea3-a6f2-71afff972159",
   "metadata": {},
   "outputs": [],
   "source": [
    "from qiskit import QuantumCircuit, Aer, assemble"
   ]
  },
  {
   "cell_type": "code",
   "execution_count": 3,
   "id": "34a502d5-3133-4425-8179-7496d2fbae9e",
   "metadata": {},
   "outputs": [],
   "source": [
    "from math import pi\n",
    "from qiskit.visualization import array_to_latex"
   ]
  },
  {
   "cell_type": "markdown",
   "id": "8805babd-3580-4b4e-b831-dc2c329b3a76",
   "metadata": {},
   "source": [
    "# Agenda for today:\n",
    "1. Background: (15 mins)\n",
    "    1. Global phase and why it can’t be measured (1 mins)\n",
    "    2. Phase Kickback (4 mins)\n",
    "    3. Quantum Fourier transform (5 mins)\n",
    "    4. Quantum Phase Estimation (5 mins)\n",
    "2. Period finding problems and quantum solutions (25 mins)\n",
    "    1. Deutsch-Jozsa Algorithm (and, briefly, Bernstein-Vazirani Algorithm) (8 mins)\n",
    "    2. Simon’s Algorithm (8 mins)\n",
    "    3. Discrete Log and Shor’s Algorithm (9 mins)\n",
    "3. Summary of period finding algorithms and why quantum computer is good at this (10 mins)"
   ]
  },
  {
   "cell_type": "markdown",
   "id": "6d01ab27-2909-4ef6-bdf2-25643a29c05e",
   "metadata": {},
   "source": [
    "## 1.1 Global Phase\n",
    "If unitary $U$ acts on quantum state $|\\psi\\rangle$ such that\n",
    "$$\n",
    "U|\\psi\\rangle = e^{i\\phi}|\\psi\\rangle, 0 \\le \\phi \\le 2\\pi\n",
    "$$\n",
    "then $U$ adds global phase $e^{i\\phi}$ on this quantum state.\n",
    "\n",
    "Recall in linear algebra that if for matrix $A$ there's a vector $v$ s.t.\n",
    "$$\n",
    "Av = \\lambda v\n",
    "$$\n",
    "then $v$ is an eigenvector of $A$ and $\\lambda$ is the corresponding eigenvalue. Also recall that eigenvectors are defined up to a constant, which is saying $v' = \\alpha v$ is the same eigenvector as $v$. In the same spirit, we cannot tell $e^{i\\phi}|\\psi\\rangle$ apart from quantum state $|\\psi\\rangle$ and thus the global phase cannot be observed."
   ]
  },
  {
   "cell_type": "markdown",
   "id": "ba5255eb-9ecd-4241-b036-c9bdd20119d4",
   "metadata": {},
   "source": [
    "## 1.2 Phase Kickback\n",
    "Recall P-gate\n",
    "$$\n",
    "P(\\phi) = \\begin{bmatrix}\n",
    "1 & 0\\\\\n",
    "0 & e^{i\\phi}\n",
    "\\end{bmatrix}, \\phi\\in\\mathbb{R}\n",
    "$$\n",
    "We can define a controlled P-gate as\n",
    "$$\n",
    "CP(\\phi) = \\begin{bmatrix}\n",
    "1 & 0 & 0 & 0\\\\\n",
    "0 & 1 & 0 & 0\\\\\n",
    "0 & 0 & 1 & 0\\\\\n",
    "0 & 0 & 0 &e^{i\\phi}\n",
    "\\end{bmatrix}, \\phi\\in\\mathbb{R}\n",
    "$$\n",
    "This applies a P-gate if the control qubit is $|1\\rangle$ and no effect otherwise."
   ]
  },
  {
   "cell_type": "code",
   "execution_count": 18,
   "id": "372e6bcc-aa54-4727-acaf-12b3772fe9fa",
   "metadata": {},
   "outputs": [
    {
     "data": {
      "image/png": "[encoded data removed]",
      "text/plain": [
       "<Figure size 206.852x144.48 with 1 Axes>"
      ]
     },
     "execution_count": 18,
     "metadata": {},
     "output_type": "execute_result"
    }
   ],
   "source": [
    "qc_cp = QuantumCircuit(2)\n",
    "qc_cp.x(0)\n",
    "qc_cp.x(1)\n",
    "qc_cp.cp(pi, 0, 1)\n",
    "qc_cp.draw()"
   ]
  },
  {
   "cell_type": "code",
   "execution_count": 19,
   "id": "5147a48d-1305-4f28-b44a-304c5b05be67",
   "metadata": {},
   "outputs": [
    {
     "data": {
      "text/latex": [
       "$$\n",
       "\\text{Final state} = \n",
       "\\begin{bmatrix}\n",
       "0 & 0 & 0 & -1  \\\\\n",
       " \\end{bmatrix}\n",
       "$$"
      ],
      "text/plain": [
       "<IPython.core.display.Latex object>"
      ]
     },
     "execution_count": 19,
     "metadata": {},
     "output_type": "execute_result"
    }
   ],
   "source": [
    "svsim = Aer.get_backend(\"aer_simulator\")\n",
    "qc_cp.save_statevector()\n",
    "qobj = assemble(qc_cp)\n",
    "final_state = svsim.run(qobj).result().get_statevector()\n",
    "array_to_latex(final_state, prefix=\"\\\\text{Final state} = \")"
   ]
  },
  {
   "cell_type": "markdown",
   "id": "cde030b9-754e-4037-bb8f-91e02579c5a6",
   "metadata": {},
   "source": [
    "As one would expect, the end state is\n",
    "$$\n",
    "CP(\\theta)|11\\rangle = \\begin{bmatrix}\n",
    "0\\\\\n",
    "0\\\\\n",
    "0\\\\\n",
    "e^{i\\pi}\n",
    "\\end{bmatrix}\n",
    "$$"
   ]
  },
  {
   "cell_type": "code",
   "execution_count": 12,
   "id": "8a4005ec-b1f6-42ad-a561-a9d0d6ec91f7",
   "metadata": {},
   "outputs": [
    {
     "data": {
      "image/png": "[encoded data removed]",
      "text/plain": [
       "<Figure size 206.852x144.48 with 1 Axes>"
      ]
     },
     "execution_count": 12,
     "metadata": {},
     "output_type": "execute_result"
    }
   ],
   "source": [
    "qc_kb = QuantumCircuit(2)\n",
    "qc_kb.h(0)\n",
    "qc_kb.x(1)\n",
    "qc_kb.cp(pi, 0, 1)\n",
    "qc_kb.draw()"
   ]
  },
  {
   "cell_type": "code",
   "execution_count": 13,
   "id": "068f0e89-58f8-4cc3-942a-9bc58cb085dc",
   "metadata": {},
   "outputs": [
    {
     "data": {
      "text/latex": [
       "$$\n",
       "\\text{Final state} = \n",
       "\\begin{bmatrix}\n",
       "0 & 0 & \\tfrac{1}{\\sqrt{2}} & -\\tfrac{1}{\\sqrt{2}}  \\\\\n",
       " \\end{bmatrix}\n",
       "$$"
      ],
      "text/plain": [
       "<IPython.core.display.Latex object>"
      ]
     },
     "execution_count": 13,
     "metadata": {},
     "output_type": "execute_result"
    }
   ],
   "source": [
    "qc_kb.save_statevector()\n",
    "qobj = assemble(qc_kb)\n",
    "final_state = svsim.run(qobj).result().get_statevector()\n",
    "array_to_latex(final_state, prefix=\"\\\\text{Final state} = \")"
   ]
  },
  {
   "cell_type": "code",
   "execution_count": 14,
   "id": "5ccfb403-b9cb-4f76-ad9c-736326e35020",
   "metadata": {},
   "outputs": [
    {
     "name": "stderr",
     "output_type": "stream",
     "text": [
      "/opt/conda/lib/python3.8/site-packages/qiskit/visualization/bloch.py:69: MatplotlibDeprecationWarning: \n",
      "The M attribute was deprecated in Matplotlib 3.4 and will be removed two minor releases later. Use self.axes.M instead.\n",
      "  x_s, y_s, _ = proj3d.proj_transform(xs3d, ys3d, zs3d, renderer.M)\n"
     ]
    },
    {
     "data": {
      "image/png": "[encoded data removed]",
      "text/plain": [
       "<Figure size 576x288 with 2 Axes>"
      ]
     },
     "execution_count": 14,
     "metadata": {},
     "output_type": "execute_result"
    }
   ],
   "source": [
    "plot_bloch_multivector(final_state)"
   ]
  },
  {
   "cell_type": "markdown",
   "id": "1ba45bca-a5d6-46a6-a672-63a469796791",
   "metadata": {},
   "source": [
    "When we put the control qubit in equal superposition, however, we see the gate actually added a relative phase of $\\pi$. This is surprising but makes sense: when we applied this gate earlier on $|11\\rangle$, we see it added a global phase to the state because $|1\\rangle$ is an eigenstate of this gate; but when we put qubit 0 in $\\{|+\\rangle, |-\\rangle\\}$ basis, it's no longer in an eigenstate of P-gate, and the relative phase caused it to rotate by $\\pi$ around the Z axis. This will be very useful in our following discussions."
   ]
  },
  {
   "cell_type": "markdown",
   "id": "6e5d0369-fa14-4fbc-8d3c-a239437bdfa6",
   "metadata": {},
   "source": [
    "## 1.3 Quantum Fourier transform\n",
    "Recall the classical discrete Fourier transform transforms a complex vector $X = \\begin{bmatrix}\n",
    "x_1\\\\\n",
    "x_2\\\\\n",
    "\\vdots\\\\\n",
    "x_n\n",
    "\\end{bmatrix}\n",
    "$ into another complex vector $Y = \\begin{bmatrix}\n",
    "y_1\\\\\n",
    "y_2\\\\\n",
    "\\vdots\\\\\n",
    "y_n\n",
    "\\end{bmatrix}\n",
    "$ where\n",
    "$$\n",
    "y_k = \\sum^{n-1}_{j=0}x_j{e^{-\\frac{2\\pi{i}}{n}jk}}\n",
    "$$\n",
    "An example use of DFT is to transform time series data from time domain to frequency domain"
   ]
  },
  {
   "cell_type": "markdown",
   "id": "e30a7048-73a6-4470-bacb-ceb84190b7f8",
   "metadata": {},
   "source": [
    "Similarly, assume we have an $n$-qubit system and $N = 2^n$, we define QFT to be a transformation from $|X\\rangle = \\sum^{N-1}_{j=0}x_j|j\\rangle$ to $|Y\\rangle = \\sum^{N-1}_{k=0}y_k|k\\rangle$ where\n",
    "$$\n",
    "y_k = \\frac{1}{\\sqrt{N}}\\sum^{N-1}_{j=0}x_j{e^{\\frac{2\\pi{i}}{N}jk}}\n",
    "$$\n",
    "With a little effort, one can show that this implies\n",
    "$$\n",
    "QFT|x\\rangle = \\frac{1}{\\sqrt{N}}\\sum^{N-1}_{y=0}{e^{\\frac{2\\pi{i}}{N}xy}}|y\\rangle, \\forall 0 \\le x < N\n",
    "$$\n",
    "If we express $y$ in binary, we could get\n",
    "$$\n",
    "QFT|x\\rangle = \\frac{1}{\\sqrt{N}}\\sum^{N-1}_{y=0}\\prod^{n}_{k=1}{e^{\\frac{2\\pi{i}}{2^k}xy_k}}|y_1 y_2 \\dots y_n\\rangle\n",
    "$$\n",
    "If we write this all out, it would look something like\n",
    "$$\n",
    "\\begin{align*}\n",
    "QFT|x\\rangle = \\frac{1}{\\sqrt{N}}\\big[ & \\left(|0\\rangle\\otimes|0\\rangle\\otimes\\dots\\otimes|0\\rangle\\right)\\\\\n",
    "& + \\left( \\exp(\\frac{2\\pi{i}x}{2^n}) \\right)\\left(|0\\rangle\\otimes|0\\rangle\\otimes\\dots\\otimes|1\\rangle\\right)\\\\\n",
    "& + \\left( \\exp(\\frac{2\\pi{i}x}{2^{n-1}}) \\right)\\left(|0\\rangle\\otimes|0\\rangle\\otimes\\dots\\otimes|1\\rangle\\otimes|0\\rangle\\right)\\\\\n",
    "& + \\left( \\exp(\\frac{2\\pi{i}x}{2^n})\\exp(\\frac{2\\pi{i}x}{2^{n-1}}) \\right)\\left(|0\\rangle\\otimes|0\\rangle\\otimes\\dots\\otimes|1\\rangle\\otimes|1\\rangle\\right)\\\\\n",
    "& + \\dots\\\\\n",
    "& + \\left( \\prod^{n}_{k=1}\\exp(\\frac{2\\pi{i}x}{2^k}) \\right)\\left(|1\\rangle\\otimes|1\\rangle\\otimes\\dots\\otimes|1\\rangle\\right)\\big]\n",
    "\\end{align*}\n",
    "$$\n",
    "If we rearrange the constants, it would look something like\n",
    "$$\n",
    "\\begin{align*}\n",
    "QFT|x\\rangle = \\frac{1}{\\sqrt{N}}\\big[ & \\left(|0\\rangle\\otimes|0\\rangle\\otimes\\dots\\otimes|0\\rangle\\right)\\\\\n",
    "& + \\left(|0\\rangle\\otimes|0\\rangle\\otimes\\dots\\otimes\\left( \\exp(\\frac{2\\pi{i}x}{2^n}) |1\\rangle \\right)\\right)\\\\\n",
    "& + \\left(|0\\rangle\\otimes|0\\rangle\\otimes\\dots\\otimes\\left( \\exp(\\frac{2\\pi{i}x}{2^{n-1}}) |1\\rangle\\right)\\otimes|0\\rangle\\right)\\\\\n",
    "& + \\left(|0\\rangle\\otimes|0\\rangle\\otimes\\dots\\otimes\\left( \\exp(\\frac{2\\pi{i}x}{2^{n-1}}) |1\\rangle\\right)\\otimes \\left( \\exp(\\frac{2\\pi{i}x}{2^{n}})|1\\rangle \\right)\\right)\\\\\n",
    "& + \\dots\\\\\n",
    "& + \\left( \\left( \\exp(\\frac{2\\pi{i}x}{2})|1\\rangle \\right) \\otimes \\left( \\exp(\\frac{2\\pi{i}x}{2^2})|1\\rangle \\right) \\otimes \\dots \\otimes \\left( \\exp(\\frac{2\\pi{i}x}{2^n})|1\\rangle \\right)\\right)\\big]\n",
    "\\end{align*}\n",
    "$$\n",
    "Since\n",
    "$$\n",
    "\\left( a + b \\right) \\otimes \\left( c + d \\right) = a \\otimes c + b \\otimes c + a \\otimes d + b \\otimes d\n",
    "$$\n",
    "We can rewrite\n",
    "$$\n",
    "\\begin{align*}\n",
    "QFT|x\\rangle = \\frac{1}{\\sqrt{N}}\n",
    "& \\left( |0\\rangle + \\exp(\\frac{2\\pi ix}{2^1}|1\\rangle \\right)\\\\\n",
    "& \\otimes \\left( |0\\rangle + \\exp(\\frac{2\\pi ix}{2^2}|1\\rangle \\right)\\\\\n",
    "& \\otimes \\dots\\\\\n",
    "& \\otimes \\left( |0\\rangle + \\exp(\\frac{2\\pi ix}{2^n}|1\\rangle \\right)\n",
    "\\end{align*}\n",
    "$$\n",
    "So we see that what QFT really is doing is that it takes in a \"binary\" representation of an integer and translate it into the Fourier basis. It is also clear that we need to leverage phase kickback to implement QFT."
   ]
  },
  {
   "cell_type": "markdown",
   "id": "dd2eb005-6d3f-485b-8739-a8cea267253e",
   "metadata": {},
   "source": [
    "## 1.4 Quantum Phase Estimation\n",
    "As aforementioned, a global phase is not observable. So suppose we have unitary $U$ that gives $|\\psi\\rangle$ a global phase $2\\pi i\\theta$ ($0\\le\\theta\\le 1$), how do we find $\\theta$? Remember we just mentioned that QFT translates a number expressed in \"binary\" into Fourier basis. Since $QFT$ is a unitary transformation, $QFT\\dagger$ must translate the same number from Fourier basis back to \"binary\". So if we can somehow represent $\\theta$ in Fourier basis, then we can use $QFT\\dagger$ to get $\\theta$. Looking at the last equation for QFT above, we see that to represent $x$ in Fourier basis, we simply need to add a relative phase of $\\exp(\\frac{2\\pi ix}{2^k})$ to the $k_{th}$ qubit, and we can use phase kickback to achieve exactly that."
   ]
  },
  {
   "cell_type": "markdown",
   "id": "e3d4c48c-4636-467a-bbc4-e4db14ef534f",
   "metadata": {},
   "source": [
    "## 2.1a Deutsch-Jozsa Algorithm"
   ]
  },
  {
   "cell_type": "markdown",
   "id": "2a2cb692-9101-4891-9078-13d7d3dd00fc",
   "metadata": {},
   "source": [
    "## 2.1b Berstein-Vazirani Algorithm"
   ]
  },
  {
   "cell_type": "markdown",
   "id": "60f07526-4f6f-4024-baf0-6248531a3282",
   "metadata": {},
   "source": [
    "## 2.2 Simon's Algorithm"
   ]
  },
  {
   "cell_type": "markdown",
   "id": "b3e8c90f-1dfd-4fce-b199-592d3a62dfed",
   "metadata": {},
   "source": [
    "## 2.3a Discrete Log Problem and its quantum solution"
   ]
  },
  {
   "cell_type": "markdown",
   "id": "f118c453-26bf-479d-a622-0f89726885cd",
   "metadata": {},
   "source": [
    "## 2.3b Shor's Algorithm"
   ]
  },
  {
   "cell_type": "markdown",
   "id": "311b8969-a466-4386-b72b-159b0b80131e",
   "metadata": {},
   "source": [
    "# Summary: Period finding algorithms and why quantum computer is a good fit\n",
    "As we can see, all those algorithms boils down to finding some periodicity. In the case of Deutsch-Jozsa, we are in essence trying to find if the period of function $f(x)$ is 1 (the constant case). In all of those algorithms, we follow the procedure of encoding the period in the qubits using phase kickback and use some form of reversed QFT to recover the period.\n",
    "\n",
    "So why are quantum computers good at finding period efficiently? (My conjecture is that) Because in the classical realm, we don't have a powerful enough medium to store information about the period/frequency, that's why we can only recover the period by sampling many data points generated from the distribution. In quantum realm, however, we can directly encode that period in the phase. Through phase kickback, we can represent that phase in Fourier basis and recover it. Actually now that I think of it, it makes some sense to encode period in phase because $2\\pi\\omega$ in phase is like the frequency.\n",
    "\n",
    "Note when to use QFT vs Hadamard? Hadamard $H^{\\otimes n}$ essentially is QFT that acts on $\\mathbb{Z}^{n}_{2}$, whereas $QFT_{n}$ acts on domain $\\mathbb{Z}_{2^n}$. So when both $H^{\\otimes n}$ and $QFT_{n}$ sees the $k_{th}$ qubit $|\\psi\\rangle$ ($\\psi \\in \\{0, 1\\}$), $H^{\\otimes n}$ treats it as just a $\\psi$, whereas $QFT_{n}$ treats it as $2^{k-1}\\psi$. This is why we see the Hadamards being used in those early algorithms that are used to solve problems that has to do with $mod\\ 2$"
   ]
  },
  {
   "cell_type": "code",
   "execution_count": null,
   "id": "96be5edd-0aa0-4344-ad25-c8f95a34886a",
   "metadata": {},
   "outputs": [],
   "source": []
  }
 ],
 "metadata": {
  "kernelspec": {
   "display_name": "Qiskit v0.32.0 (ipykernel)",
   "language": "python",
   "name": "python3"
  },
  "language_info": {
   "codemirror_mode": {
    "name": "ipython",
    "version": 3
   },
   "file_extension": ".py",
   "mimetype": "text/x-python",
   "name": "python",
   "nbconvert_exporter": "python",
   "pygments_lexer": "ipython3",
   "version": "3.8.10"
  },
  "widgets": {
   "application/vnd.jupyter.widget-state+json": {
    "state": {
     "10de4fa0c46548aca10642748015f647": {
      "model_module": "@jupyter-widgets/base",
      "model_module_version": "1.2.0",
      "model_name": "LayoutModel",
      "state": {
       "margin": "0px 0px 0px 37px",
       "width": "600px"
      }
     },
     "2d8750a7c232422cbb91ebcad775d349": {
      "model_module": "@jupyter-widgets/base",
      "model_module_version": "1.2.0",
      "model_name": "LayoutModel",
      "state": {
       "width": "70px"
      }
     },
     "34fc35200af24193839e30245db52a71": {
      "model_module": "@jupyter-widgets/controls",
      "model_module_version": "1.5.0",
      "model_name": "DescriptionStyleModel",
      "state": {
       "description_width": ""
      }
     },
     "4c21e7a1f04a43588c1fdf35def8210d": {
      "model_module": "@jupyter-widgets/base",
      "model_module_version": "1.2.0",
      "model_name": "LayoutModel",
      "state": {}
     },
     "562157990a214a1fa0278b82f9631af0": {
      "model_module": "@jupyter-widgets/controls",
      "model_module_version": "1.5.0",
      "model_name": "ButtonStyleModel",
      "state": {}
     },
     "57d4fb4aa8a74b60a1637c4d448afd51": {
      "model_module": "@jupyter-widgets/base",
      "model_module_version": "1.2.0",
      "model_name": "LayoutModel",
      "state": {
       "grid_area": "right",
       "padding": "0px 0px 0px 0px",
       "width": "70px"
      }
     },
     "6b0a876030d6455d91f72e8803274d7d": {
      "model_module": "@jupyter-widgets/base",
      "model_module_version": "1.2.0",
      "model_name": "LayoutModel",
      "state": {
       "grid_template_areas": "\n                                       \". . . . right \"\n                                        ",
       "grid_template_columns": "20% 20% 20% 20% 20%",
       "width": "100%"
      }
     },
     "6d286a472de04d5f85480a85b79f8eae": {
      "model_module": "@jupyter-widgets/controls",
      "model_module_version": "1.5.0",
      "model_name": "HTMLModel",
      "state": {
       "layout": "IPY_MODEL_2d8750a7c232422cbb91ebcad775d349",
       "style": "IPY_MODEL_ad1b99612d284a6fb9b265e11a30070d",
       "value": "<h5>Queue</h5>"
      }
     },
     "75c01ebe8feb4434aee78cbf3fa62c87": {
      "model_module": "@jupyter-widgets/controls",
      "model_module_version": "1.5.0",
      "model_name": "HTMLModel",
      "state": {
       "layout": "IPY_MODEL_fb543ef4a638474d8d5186a48a2bc785",
       "style": "IPY_MODEL_c128bc754c9c491a85b6c3b8d3b70623",
       "value": "<p style='font-family: IBM Plex Sans, Arial, Helvetica, sans-serif; font-size: 20px; font-weight: medium;'>Circuit Properties</p>"
      }
     },
     "7ad889bf6f25442ba8464ba656c5f5d6": {
      "model_module": "@jupyter-widgets/controls",
      "model_module_version": "1.5.0",
      "model_name": "DescriptionStyleModel",
      "state": {
       "description_width": ""
      }
     },
     "7ccbea726ade433fa0a065845a9b73a0": {
      "model_module": "@jupyter-widgets/controls",
      "model_module_version": "1.5.0",
      "model_name": "GridBoxModel",
      "state": {
       "children": [
        "IPY_MODEL_ae9b4f0d6844440e9ac102df7a3ce055"
       ],
       "layout": "IPY_MODEL_6b0a876030d6455d91f72e8803274d7d"
      }
     },
     "87cdf66c5fde4499a4d57018f3906822": {
      "model_module": "@jupyter-widgets/controls",
      "model_module_version": "1.5.0",
      "model_name": "HTMLModel",
      "state": {
       "layout": "IPY_MODEL_4c21e7a1f04a43588c1fdf35def8210d",
       "style": "IPY_MODEL_34fc35200af24193839e30245db52a71",
       "value": "<h5>Message</h5>"
      }
     },
     "8aad82dd80ce4086b19ba4177f8dfee8": {
      "model_module": "@jupyter-widgets/base",
      "model_module_version": "1.2.0",
      "model_name": "LayoutModel",
      "state": {
       "width": "190px"
      }
     },
     "9f8a722d3dbf44ec929c02c58e37204d": {
      "model_module": "@jupyter-widgets/controls",
      "model_module_version": "1.5.0",
      "model_name": "HTMLModel",
      "state": {
       "layout": "IPY_MODEL_d687f91e98964e148443d6d79e491f41",
       "style": "IPY_MODEL_7ad889bf6f25442ba8464ba656c5f5d6",
       "value": "<h5>Backend</h5>"
      }
     },
     "ad1b99612d284a6fb9b265e11a30070d": {
      "model_module": "@jupyter-widgets/controls",
      "model_module_version": "1.5.0",
      "model_name": "DescriptionStyleModel",
      "state": {
       "description_width": ""
      }
     },
     "ad771f47a5e442edad41e07e5997eec5": {
      "model_module": "@jupyter-widgets/controls",
      "model_module_version": "1.5.0",
      "model_name": "DescriptionStyleModel",
      "state": {
       "description_width": ""
      }
     },
     "ae9b4f0d6844440e9ac102df7a3ce055": {
      "model_module": "@jupyter-widgets/controls",
      "model_module_version": "1.5.0",
      "model_name": "ButtonModel",
      "state": {
       "button_style": "primary",
       "description": "Clear",
       "layout": "IPY_MODEL_57d4fb4aa8a74b60a1637c4d448afd51",
       "style": "IPY_MODEL_562157990a214a1fa0278b82f9631af0"
      }
     },
     "b10a843c74cf4e28ad8f0d10bda4d6c1": {
      "model_module": "@jupyter-widgets/base",
      "model_module_version": "1.2.0",
      "model_name": "LayoutModel",
      "state": {
       "width": "95px"
      }
     },
     "c128bc754c9c491a85b6c3b8d3b70623": {
      "model_module": "@jupyter-widgets/controls",
      "model_module_version": "1.5.0",
      "model_name": "DescriptionStyleModel",
      "state": {
       "description_width": ""
      }
     },
     "d687f91e98964e148443d6d79e491f41": {
      "model_module": "@jupyter-widgets/base",
      "model_module_version": "1.2.0",
      "model_name": "LayoutModel",
      "state": {
       "width": "145px"
      }
     },
     "db5e6f47773c4350b07f94d34879697a": {
      "model_module": "@jupyter-widgets/controls",
      "model_module_version": "1.5.0",
      "model_name": "HTMLModel",
      "state": {
       "layout": "IPY_MODEL_8aad82dd80ce4086b19ba4177f8dfee8",
       "style": "IPY_MODEL_ad771f47a5e442edad41e07e5997eec5",
       "value": "<h5>Job ID</h5>"
      }
     },
     "dd55431338bb4e2a97718b89bf54d504": {
      "model_module": "@jupyter-widgets/controls",
      "model_module_version": "1.5.0",
      "model_name": "HTMLModel",
      "state": {
       "layout": "IPY_MODEL_b10a843c74cf4e28ad8f0d10bda4d6c1",
       "style": "IPY_MODEL_de864a2a897f4c9999619303da43d927",
       "value": "<h5>Status</h5>"
      }
     },
     "de864a2a897f4c9999619303da43d927": {
      "model_module": "@jupyter-widgets/controls",
      "model_module_version": "1.5.0",
      "model_name": "DescriptionStyleModel",
      "state": {
       "description_width": ""
      }
     },
     "ea5774eae19742ed8360339e45750a56": {
      "model_module": "@jupyter-widgets/controls",
      "model_module_version": "1.5.0",
      "model_name": "HBoxModel",
      "state": {
       "children": [
        "IPY_MODEL_db5e6f47773c4350b07f94d34879697a",
        "IPY_MODEL_9f8a722d3dbf44ec929c02c58e37204d",
        "IPY_MODEL_dd55431338bb4e2a97718b89bf54d504",
        "IPY_MODEL_6d286a472de04d5f85480a85b79f8eae",
        "IPY_MODEL_87cdf66c5fde4499a4d57018f3906822"
       ],
       "layout": "IPY_MODEL_10de4fa0c46548aca10642748015f647"
      }
     },
     "fb543ef4a638474d8d5186a48a2bc785": {
      "model_module": "@jupyter-widgets/base",
      "model_module_version": "1.2.0",
      "model_name": "LayoutModel",
      "state": {
       "margin": "0px 0px 10px 0px"
      }
     }
    },
    "version_major": 2,
    "version_minor": 0
   }
  }
 },
 "nbformat": 4,
 "nbformat_minor": 5
}
